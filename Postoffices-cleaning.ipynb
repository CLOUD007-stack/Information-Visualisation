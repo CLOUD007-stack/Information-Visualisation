{
 "cells": [
  {
   "cell_type": "code",
   "execution_count": 101,
   "id": "c6a54cdc",
   "metadata": {},
   "outputs": [],
   "source": [
    "import pandas as pd\n",
    "import us\n",
    "import pycountry\n",
    "\n",
    "# Read the CSV file\n",
    "df = pd.read_csv('post_offices.csv')\n",
    "\n",
    "df.dropna(subset=['latitude', 'longitude','discontinued'], inplace=True)\n",
    "\n",
    "# Filter out states where orig_county is not available\n",
    "df = df[df['orig_county'].notna()]\n",
    "\n",
    "# Removed unwanted columns \n",
    "df.drop(columns=['orig_name','alt_name','county1','county2','county3','id','coordinates','gnis_match','gnis_name','gnis_county','gnis_state','gnis_feature_id','gnis_feature_class','gnis_orig_name','gnis_orig_county','gnis_latitude', 'gnis_longitude','gnis_elev_in_m','gnis_dist'], inplace=True)\n",
    "\n",
    "df = df[(df['stamp_index'] <= 8) & (df['stamp_index'].notna())]\n",
    "\n",
    "df = df[(df['duration'] >= 0) & (df['duration']<= 400)]\n",
    "\n",
    "# Remove records where year established is below 1910\n",
    "df = df[df['established'] >= 1900]\n",
    "\n",
    "# Define a function to get the full state name from the abbreviation\n",
    "def get_full_state_name(abbreviation):\n",
    "    try:\n",
    "        return pycountry.subdivisions.get(code=f\"US-{abbreviation}\").name\n",
    "    except AttributeError:\n",
    "        return None\n",
    "\n",
    "# Add a new column for the full state name\n",
    "df['state_full_name'] = df['state'].apply(get_full_state_name)\n",
    "\n",
    "df.to_csv('USA_post_offices.csv', index=False)"
   ]
  },
  {
   "cell_type": "code",
   "execution_count": null,
   "id": "c5f8f7a7",
   "metadata": {},
   "outputs": [],
   "source": []
  }
 ],
 "metadata": {
  "kernelspec": {
   "display_name": "Python 3 (ipykernel)",
   "language": "python",
   "name": "python3"
  },
  "language_info": {
   "codemirror_mode": {
    "name": "ipython",
    "version": 3
   },
   "file_extension": ".py",
   "mimetype": "text/x-python",
   "name": "python",
   "nbconvert_exporter": "python",
   "pygments_lexer": "ipython3",
   "version": "3.11.4"
  }
 },
 "nbformat": 4,
 "nbformat_minor": 5
}
